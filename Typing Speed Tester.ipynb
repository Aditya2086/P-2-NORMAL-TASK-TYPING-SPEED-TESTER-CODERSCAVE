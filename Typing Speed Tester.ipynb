{
 "cells": [
  {
   "cell_type": "code",
   "execution_count": 6,
   "id": "324edf75-0bb8-4caf-be77-9c21db5959ea",
   "metadata": {
    "tags": []
   },
   "outputs": [
    {
     "data": {
      "text/plain": [
       "<__main__.TypingSpeed at 0x2564d7ef490>"
      ]
     },
     "execution_count": 6,
     "metadata": {},
     "output_type": "execute_result"
    }
   ],
   "source": [
    "import tkinter as tk\n",
    "import time\n",
    "import threading\n",
    "import random\n",
    "\n",
    "class TypingSpeed:\n",
    "\n",
    "    def __init__(self):\n",
    "        self.root = tk.Tk()\n",
    "        self.root.title(\"Typing Tester\")\n",
    "        self.root.geometry(\"800x600\")\n",
    "\n",
    "        self.txt = \"Toh kaise hain aap log.\", \\\n",
    "                   \"Chaliye shuru karte hain\", \\\n",
    "                   \"So beautiful so elegant just looking like a wow. \"\n",
    "        self.frame = tk.Frame(self.root)\n",
    "\n",
    "        self.spl_label = tk.Label(self.frame, text=random.choice(self.txt), font=(\"H\", 18), wraplength=750)\n",
    "        self.spl_label.grid(row=0, column=0, columnspan=2, padx=5, pady=5)\n",
    "\n",
    "        self.input_entry = tk.Entry(self.frame, width=40, font=(\"H\", 24))\n",
    "        self.input_entry.grid(row=1, column=0, columnspan=2, padx=5, pady=10)\n",
    "        self.input_entry.bind(\"<KeyPress>\", self.s)\n",
    "\n",
    "        self.spd_label = tk.Label(self.frame, text=\"Speed: \\n0.00 CPS\\n0.00 CPM\\n0.00 WPS\\n0.00 WPS\",\n",
    "                                 font=(\"H\", 18))\n",
    "        self.spd_label.grid(row=2, column=0, columnspan=2, padx=5, pady=10)\n",
    "\n",
    "        self.rst_button = tk.Button(self.frame, text=\"Reset\", command=self.r, font=(\"H\", 24))\n",
    "        self.rst_button.grid(row=3, column=0, columnspan=2, padx=5, pady=10)\n",
    "\n",
    "        self.frame.pack(expand=True)\n",
    "\n",
    "        self.c = 0\n",
    "        self.r = False\n",
    "\n",
    "        self.root.mainloop()\n",
    "\n",
    "    def s(self, e):\n",
    "        if not self.r:\n",
    "            if not e.keycode in [16, 17, 18]:\n",
    "                self.r = True\n",
    "                t = threading.Thread(target=self.t)\n",
    "                t.start()\n",
    "        if not self.spl_label.cget('text').startswith(self.input_entry.get()):\n",
    "            self.input_entry.config(fg=\"red\")\n",
    "        else:\n",
    "            self.input_entry.config(fg=\"black\")\n",
    "        if self.input_entry.get() == self.spl_label.cget('text')[:-1]:\n",
    "            self.r = False\n",
    "            self.input_entry.config(fg=\"green\")\n",
    "\n",
    "    def t(self):\n",
    "        while self.r:\n",
    "            time.sleep(0.1)\n",
    "            self.c += 0.1\n",
    "            cps = len(self.input_entry.get()) / self.c\n",
    "            cpm = cps * 60\n",
    "            wps = len(self.input_entry.get().split(\" \")) / self.c\n",
    "            wpm = wps * 60\n",
    "            self.spd_label.config(text=f\"Speed: \\n{cps:.2f} CPS\\n{cpm:.2f} CPM\\n{wps:.2f} WPS\\n{wpm:.2f} WPM\")\n",
    "\n",
    "    def r(self):\n",
    "        self.r = False\n",
    "        self.c = 0\n",
    "        self.spd_label.config(text=\"Speed: \\n0.00 CPS\\n0.00 CPM\\n0.00 WPS\\n0.00 WPM\")\n",
    "        self.spl_label.config(text=random.choice(self.txt))\n",
    "        self.input_entry.delete(0, tk.END)\n",
    "\n",
    "\n",
    "TypingSpeed()"
   ]
  },
  {
   "cell_type": "code",
   "execution_count": null,
   "id": "cdfec506-4563-49e1-94d8-0653ba776a09",
   "metadata": {},
   "outputs": [],
   "source": []
  }
 ],
 "metadata": {
  "kernelspec": {
   "display_name": "Python 3 (ipykernel)",
   "language": "python",
   "name": "python3"
  },
  "language_info": {
   "codemirror_mode": {
    "name": "ipython",
    "version": 3
   },
   "file_extension": ".py",
   "mimetype": "text/x-python",
   "name": "python",
   "nbconvert_exporter": "python",
   "pygments_lexer": "ipython3",
   "version": "3.11.4"
  }
 },
 "nbformat": 4,
 "nbformat_minor": 5
}
